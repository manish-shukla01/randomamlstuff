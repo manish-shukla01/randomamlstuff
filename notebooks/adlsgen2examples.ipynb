{
 "cells": [
  {
   "cell_type": "code",
   "execution_count": 1,
   "id": "41cfaec2",
   "metadata": {},
   "outputs": [
    {
     "name": "stdout",
     "output_type": "stream",
     "text": [
      "Collecting azure-storage-file-datalake\n",
      "  Downloading azure_storage_file_datalake-12.3.1-py2.py3-none-any.whl (190 kB)\n",
      "\u001b[K     |████████████████████████████████| 190 kB 14.7 MB/s eta 0:00:01\n",
      "\u001b[?25hRequirement already satisfied: azure-core<2.0.0,>=1.10.0 in /anaconda/envs/azureml_py38/lib/python3.8/site-packages (from azure-storage-file-datalake) (1.13.0)\n",
      "Requirement already satisfied: msrest>=0.6.18 in /anaconda/envs/azureml_py38/lib/python3.8/site-packages (from azure-storage-file-datalake) (0.6.21)\n",
      "Requirement already satisfied: azure-storage-blob<13.0.0,>=12.8.0b1 in /anaconda/envs/azureml_py38/lib/python3.8/site-packages (from azure-storage-file-datalake) (12.8.0)\n",
      "Requirement already satisfied: requests>=2.18.4 in /anaconda/envs/azureml_py38/lib/python3.8/site-packages (from azure-core<2.0.0,>=1.10.0->azure-storage-file-datalake) (2.25.1)\n",
      "Requirement already satisfied: six>=1.11.0 in /anaconda/envs/azureml_py38/lib/python3.8/site-packages (from azure-core<2.0.0,>=1.10.0->azure-storage-file-datalake) (1.15.0)\n",
      "Requirement already satisfied: certifi>=2017.4.17 in /anaconda/envs/azureml_py38/lib/python3.8/site-packages (from msrest>=0.6.18->azure-storage-file-datalake) (2020.12.5)\n",
      "Requirement already satisfied: isodate>=0.6.0 in /anaconda/envs/azureml_py38/lib/python3.8/site-packages (from msrest>=0.6.18->azure-storage-file-datalake) (0.6.0)\n",
      "Requirement already satisfied: requests-oauthlib>=0.5.0 in /anaconda/envs/azureml_py38/lib/python3.8/site-packages (from msrest>=0.6.18->azure-storage-file-datalake) (1.3.0)\n",
      "Requirement already satisfied: cryptography>=2.1.4 in /anaconda/envs/azureml_py38/lib/python3.8/site-packages (from azure-storage-blob<13.0.0,>=12.8.0b1->azure-storage-file-datalake) (3.4.7)\n",
      "Requirement already satisfied: idna<3,>=2.5 in /anaconda/envs/azureml_py38/lib/python3.8/site-packages (from requests>=2.18.4->azure-core<2.0.0,>=1.10.0->azure-storage-file-datalake) (2.10)\n",
      "Requirement already satisfied: chardet<5,>=3.0.2 in /anaconda/envs/azureml_py38/lib/python3.8/site-packages (from requests>=2.18.4->azure-core<2.0.0,>=1.10.0->azure-storage-file-datalake) (4.0.0)\n",
      "Requirement already satisfied: urllib3<1.27,>=1.21.1 in /anaconda/envs/azureml_py38/lib/python3.8/site-packages (from requests>=2.18.4->azure-core<2.0.0,>=1.10.0->azure-storage-file-datalake) (1.25.11)\n",
      "Requirement already satisfied: oauthlib>=3.0.0 in /anaconda/envs/azureml_py38/lib/python3.8/site-packages (from requests-oauthlib>=0.5.0->msrest>=0.6.18->azure-storage-file-datalake) (3.1.0)\n",
      "Requirement already satisfied: cffi>=1.12 in /anaconda/envs/azureml_py38/lib/python3.8/site-packages (from cryptography>=2.1.4->azure-storage-blob<13.0.0,>=12.8.0b1->azure-storage-file-datalake) (1.14.5)\n",
      "Requirement already satisfied: pycparser in /anaconda/envs/azureml_py38/lib/python3.8/site-packages (from cffi>=1.12->cryptography>=2.1.4->azure-storage-blob<13.0.0,>=12.8.0b1->azure-storage-file-datalake) (2.20)\n",
      "Installing collected packages: azure-storage-file-datalake\n",
      "Successfully installed azure-storage-file-datalake-12.3.1\n",
      "Note: you may need to restart the kernel to use updated packages.\n"
     ]
    }
   ],
   "source": [
    "pip install azure-storage-file-datalake"
   ]
  },
  {
   "cell_type": "code",
   "execution_count": 5,
   "id": "c735a824",
   "metadata": {},
   "outputs": [
    {
     "name": "stdout",
     "output_type": "stream",
     "text": [
      "Requirement already satisfied: azure-identity in /anaconda/envs/azureml_py38/lib/python3.8/site-packages (1.4.1)\n",
      "Requirement already satisfied: msal<2.0.0,>=1.3.0 in /anaconda/envs/azureml_py38/lib/python3.8/site-packages (from azure-identity) (1.11.0)\n",
      "Requirement already satisfied: cryptography>=2.1.4 in /anaconda/envs/azureml_py38/lib/python3.8/site-packages (from azure-identity) (3.4.7)\n",
      "Requirement already satisfied: msal-extensions~=0.2.2 in /anaconda/envs/azureml_py38/lib/python3.8/site-packages (from azure-identity) (0.2.2)\n",
      "Requirement already satisfied: six>=1.6 in /anaconda/envs/azureml_py38/lib/python3.8/site-packages (from azure-identity) (1.15.0)\n",
      "Requirement already satisfied: azure-core<2.0.0,>=1.0.0 in /anaconda/envs/azureml_py38/lib/python3.8/site-packages (from azure-identity) (1.13.0)\n",
      "Requirement already satisfied: requests<3,>=2.0.0 in /anaconda/envs/azureml_py38/lib/python3.8/site-packages (from msal<2.0.0,>=1.3.0->azure-identity) (2.25.1)\n",
      "Requirement already satisfied: PyJWT[crypto]<3,>=1.0.0 in /anaconda/envs/azureml_py38/lib/python3.8/site-packages (from msal<2.0.0,>=1.3.0->azure-identity) (2.0.1)\n",
      "Requirement already satisfied: cffi>=1.12 in /anaconda/envs/azureml_py38/lib/python3.8/site-packages (from cryptography>=2.1.4->azure-identity) (1.14.5)\n",
      "Requirement already satisfied: portalocker~=1.0; platform_system != \"Windows\" in /anaconda/envs/azureml_py38/lib/python3.8/site-packages (from msal-extensions~=0.2.2->azure-identity) (1.7.1)\n",
      "Requirement already satisfied: idna<3,>=2.5 in /anaconda/envs/azureml_py38/lib/python3.8/site-packages (from requests<3,>=2.0.0->msal<2.0.0,>=1.3.0->azure-identity) (2.10)\n",
      "Requirement already satisfied: urllib3<1.27,>=1.21.1 in /anaconda/envs/azureml_py38/lib/python3.8/site-packages (from requests<3,>=2.0.0->msal<2.0.0,>=1.3.0->azure-identity) (1.25.11)\n",
      "Requirement already satisfied: certifi>=2017.4.17 in /anaconda/envs/azureml_py38/lib/python3.8/site-packages (from requests<3,>=2.0.0->msal<2.0.0,>=1.3.0->azure-identity) (2020.12.5)\n",
      "Requirement already satisfied: chardet<5,>=3.0.2 in /anaconda/envs/azureml_py38/lib/python3.8/site-packages (from requests<3,>=2.0.0->msal<2.0.0,>=1.3.0->azure-identity) (4.0.0)\n",
      "Requirement already satisfied: pycparser in /anaconda/envs/azureml_py38/lib/python3.8/site-packages (from cffi>=1.12->cryptography>=2.1.4->azure-identity) (2.20)\n",
      "Note: you may need to restart the kernel to use updated packages.\n"
     ]
    }
   ],
   "source": [
    "pip install azure-identity"
   ]
  },
  {
   "cell_type": "code",
   "execution_count": 2,
   "id": "f9892d16",
   "metadata": {},
   "outputs": [],
   "source": [
    "import os, uuid, sys\n",
    "from azure.storage.filedatalake import DataLakeServiceClient\n",
    "from azure.core._match_conditions import MatchConditions\n",
    "from azure.storage.filedatalake._models import ContentSettings\n",
    "from azure.identity import ClientSecretCredential"
   ]
  },
  {
   "cell_type": "code",
   "execution_count": 3,
   "id": "fcddeef2",
   "metadata": {},
   "outputs": [],
   "source": [
    "def initialize_storage_account_ad(storage_account_name, client_id, client_secret, tenant_id):\n",
    "    \n",
    "    try:  \n",
    "        global service_client\n",
    "\n",
    "        credential = ClientSecretCredential(tenant_id, client_id, client_secret)\n",
    "\n",
    "        service_client = DataLakeServiceClient(account_url=\"{}://{}.dfs.core.windows.net\".format(\n",
    "            \"https\", storage_account_name), credential=credential)\n",
    "    \n",
    "    except Exception as e:\n",
    "        print(e)"
   ]
  },
  {
   "cell_type": "code",
   "execution_count": 4,
   "id": "20ff30fb",
   "metadata": {},
   "outputs": [],
   "source": [
    "initialize_storage_account_ad(\"adlsgen2pocmanish\",\"4262f413-7088-4c1c-8681-e6c84d825fad\",\"Hla.5~FKRTnzDlh.hCchX300b1wuUt8Az-\",\"72f988bf-86f1-41af-91ab-2d7cd011db47\")"
   ]
  },
  {
   "cell_type": "code",
   "execution_count": 5,
   "id": "4496cb57",
   "metadata": {},
   "outputs": [
    {
     "data": {
      "text/plain": [
       "<azure.storage.filedatalake._data_lake_service_client.DataLakeServiceClient at 0x7f26c56d78e0>"
      ]
     },
     "execution_count": 5,
     "metadata": {},
     "output_type": "execute_result"
    }
   ],
   "source": [
    "service_client"
   ]
  },
  {
   "cell_type": "code",
   "execution_count": 6,
   "id": "f99294f1",
   "metadata": {},
   "outputs": [
    {
     "data": {
      "text/plain": [
       "<azure.storage.filedatalake._file_system_client.FileSystemClient at 0x7f26c56d7b20>"
      ]
     },
     "execution_count": 6,
     "metadata": {},
     "output_type": "execute_result"
    }
   ],
   "source": [
    "\n",
    "service_client.create_file_system(file_system=\"my-file-system\")"
   ]
  },
  {
   "cell_type": "code",
   "execution_count": 12,
   "id": "2aee8bd7",
   "metadata": {},
   "outputs": [],
   "source": [
    "t = range(1,1000000)"
   ]
  },
  {
   "cell_type": "code",
   "execution_count": 13,
   "id": "0bb780cd",
   "metadata": {},
   "outputs": [],
   "source": [
    "import pandas as pd\n",
    "mydf = pd.DataFrame(data=t,columns=['Id'])"
   ]
  },
  {
   "cell_type": "code",
   "execution_count": 14,
   "id": "81f42bc2",
   "metadata": {},
   "outputs": [],
   "source": [
    "mydf['Name'] = 'some data'"
   ]
  },
  {
   "cell_type": "code",
   "execution_count": 16,
   "id": "99025a5b",
   "metadata": {},
   "outputs": [],
   "source": [
    "mydf.to_csv('junkdata.csv')"
   ]
  },
  {
   "cell_type": "code",
   "execution_count": 18,
   "id": "4551e92c",
   "metadata": {},
   "outputs": [
    {
     "data": {
      "text/plain": [
       "{'date': datetime.datetime(2021, 5, 19, 12, 2, 17, tzinfo=datetime.timezone.utc),\n",
       " 'etag': '\"0x8D91ABDF3AB8543\"',\n",
       " 'last_modified': datetime.datetime(2021, 5, 19, 12, 2, 18, tzinfo=datetime.timezone.utc),\n",
       " 'content_length': 0,\n",
       " 'client_request_id': '0f17d7aa-b89a-11eb-a0b9-00224841c690',\n",
       " 'request_id': '3981ea71-f01f-0035-75a6-4c50e3000000',\n",
       " 'version': '2020-02-10'}"
      ]
     },
     "execution_count": 18,
     "metadata": {},
     "output_type": "execute_result"
    }
   ],
   "source": [
    "file_system_client = service_client.get_file_system_client(file_system=\"my-file-system\")\n",
    "directory_client = file_system_client.get_directory_client(\"my-directory\")\n",
    "file_client = directory_client.get_file_client(\"uploaded-file.csv\")\n",
    "local_file = open(\"junkdata.csv\",'r')\n",
    "file_contents = local_file.read()\n",
    "file_client.upload_data(file_contents, overwrite=True)"
   ]
  },
  {
   "cell_type": "code",
   "execution_count": 24,
   "id": "ad4c6ade",
   "metadata": {},
   "outputs": [],
   "source": [
    "sourcefilePath = \"my-directory/uploaded-file.csv\"\n",
    "targetfilePath = \"my-directory1/uploaded-file1.csv\"\n",
    "sourcefile_client = file_system_client.get_file_client(sourcefilePath)\n",
    "target_client = file_system_client.get_file_client(targetfilePath)"
   ]
  },
  {
   "cell_type": "code",
   "execution_count": 25,
   "id": "c523e95a",
   "metadata": {},
   "outputs": [],
   "source": [
    "download = sourcefile_client.download_file()\n",
    "downloaded_bytes = download.readall()"
   ]
  },
  {
   "cell_type": "code",
   "execution_count": 26,
   "id": "240f6ccf",
   "metadata": {},
   "outputs": [
    {
     "data": {
      "text/plain": [
       "{'date': datetime.datetime(2021, 5, 19, 12, 15, 51, tzinfo=datetime.timezone.utc),\n",
       " 'etag': '\"0x8D91ABFD8D3B284\"',\n",
       " 'last_modified': datetime.datetime(2021, 5, 19, 12, 15, 52, tzinfo=datetime.timezone.utc),\n",
       " 'content_length': 0,\n",
       " 'client_request_id': 'f45320d0-b89b-11eb-a0b9-00224841c690',\n",
       " 'request_id': 'd69da386-901f-000c-6aa8-4c1047000000',\n",
       " 'version': '2020-02-10'}"
      ]
     },
     "execution_count": 26,
     "metadata": {},
     "output_type": "execute_result"
    }
   ],
   "source": [
    "target_client.upload_data(downloaded_bytes, overwrite=True)"
   ]
  },
  {
   "cell_type": "code",
   "execution_count": 29,
   "id": "6551f870",
   "metadata": {},
   "outputs": [],
   "source": [
    "#todo: add parameter\n",
    "def moveFile(sourcefilePath, targetfilePath, filesystemClient,deleteAfterMove=False):\n",
    "    sourcefile_client = filesystemClient.get_file_client(sourcefilePath)\n",
    "    target_client = filesystemClient.get_file_client(targetfilePath)\n",
    "    download = sourcefile_client.download_file()\n",
    "    downloaded_bytes = download.readall()\n",
    "    target_client.upload_data(downloaded_bytes, overwrite=True)\n",
    "    if deleteAfterMove:\n",
    "        sourcefile_client.delete_file()"
   ]
  },
  {
   "cell_type": "code",
   "execution_count": 32,
   "id": "dad63e2e",
   "metadata": {},
   "outputs": [],
   "source": [
    "moveFile(\"my-directory/uploaded-file.csv\",\"my-directory2/uploaded-file2.csv\",file_system_client)"
   ]
  },
  {
   "cell_type": "code",
   "execution_count": 31,
   "id": "ca0bf0ee",
   "metadata": {},
   "outputs": [],
   "source": [
    "moveFile(\"my-directory/uploaded-file2.csv\",\"my-directory/uploaded-file.csv\",file_system_client,True)"
   ]
  },
  {
   "cell_type": "code",
   "execution_count": 35,
   "id": "555c73fb",
   "metadata": {},
   "outputs": [],
   "source": [
    "for i in range(1,20):\n",
    "    moveFile(\"my-directory/uploaded-file.csv\",f\"my-directory2/uploaded-file{i}.csv\",file_system_client)"
   ]
  },
  {
   "cell_type": "code",
   "execution_count": 36,
   "id": "abaf0cbe",
   "metadata": {},
   "outputs": [],
   "source": [
    "for i in range(1,20):\n",
    "    moveFile(\"my-directory/uploaded-file.csv\",f\"my-directory2/uploaded-file{i}.txt\",file_system_client)"
   ]
  },
  {
   "cell_type": "code",
   "execution_count": 52,
   "id": "bbdb8f36",
   "metadata": {},
   "outputs": [],
   "source": [
    "#\n",
    "mylist = [x.name for x in file_system_client.get_paths() if True]"
   ]
  },
  {
   "cell_type": "code",
   "execution_count": 53,
   "id": "34c16033",
   "metadata": {},
   "outputs": [
    {
     "data": {
      "text/plain": [
       "['my-directory',\n",
       " 'my-directory/uploaded-file.csv',\n",
       " 'my-directory1',\n",
       " 'my-directory1/uploaded-file1.csv',\n",
       " 'my-directory2',\n",
       " 'my-directory2/uploaded-file1.csv',\n",
       " 'my-directory2/uploaded-file1.txt',\n",
       " 'my-directory2/uploaded-file10.csv',\n",
       " 'my-directory2/uploaded-file10.txt',\n",
       " 'my-directory2/uploaded-file11.csv',\n",
       " 'my-directory2/uploaded-file11.txt',\n",
       " 'my-directory2/uploaded-file12.csv',\n",
       " 'my-directory2/uploaded-file12.txt',\n",
       " 'my-directory2/uploaded-file13.csv',\n",
       " 'my-directory2/uploaded-file13.txt',\n",
       " 'my-directory2/uploaded-file14.csv',\n",
       " 'my-directory2/uploaded-file14.txt',\n",
       " 'my-directory2/uploaded-file15.csv',\n",
       " 'my-directory2/uploaded-file15.txt',\n",
       " 'my-directory2/uploaded-file16.csv',\n",
       " 'my-directory2/uploaded-file16.txt',\n",
       " 'my-directory2/uploaded-file17.csv',\n",
       " 'my-directory2/uploaded-file17.txt',\n",
       " 'my-directory2/uploaded-file18.csv',\n",
       " 'my-directory2/uploaded-file18.txt',\n",
       " 'my-directory2/uploaded-file19.csv',\n",
       " 'my-directory2/uploaded-file19.txt',\n",
       " 'my-directory2/uploaded-file2.csv',\n",
       " 'my-directory2/uploaded-file2.txt',\n",
       " 'my-directory2/uploaded-file3.csv',\n",
       " 'my-directory2/uploaded-file3.txt',\n",
       " 'my-directory2/uploaded-file4.csv',\n",
       " 'my-directory2/uploaded-file4.txt',\n",
       " 'my-directory2/uploaded-file5.csv',\n",
       " 'my-directory2/uploaded-file5.txt',\n",
       " 'my-directory2/uploaded-file6.csv',\n",
       " 'my-directory2/uploaded-file6.txt',\n",
       " 'my-directory2/uploaded-file7.csv',\n",
       " 'my-directory2/uploaded-file7.txt',\n",
       " 'my-directory2/uploaded-file8.csv',\n",
       " 'my-directory2/uploaded-file8.txt',\n",
       " 'my-directory2/uploaded-file9.csv',\n",
       " 'my-directory2/uploaded-file9.txt',\n",
       " 'testfolder']"
      ]
     },
     "execution_count": 53,
     "metadata": {},
     "output_type": "execute_result"
    }
   ],
   "source": [
    "#probably your glob method just looks for all zip file. you could return the path where you see .zip and wrap this in a method\n",
    "mylist"
   ]
  },
  {
   "cell_type": "code",
   "execution_count": null,
   "id": "74f54c4d",
   "metadata": {},
   "outputs": [],
   "source": []
  }
 ],
 "metadata": {
  "kernelspec": {
   "display_name": "Python 3.8 - AzureML",
   "language": "python",
   "name": "python38-azureml"
  },
  "language_info": {
   "codemirror_mode": {
    "name": "ipython",
    "version": 3
   },
   "file_extension": ".py",
   "mimetype": "text/x-python",
   "name": "python",
   "nbconvert_exporter": "python",
   "pygments_lexer": "ipython3",
   "version": "3.8.1"
  }
 },
 "nbformat": 4,
 "nbformat_minor": 5
}
